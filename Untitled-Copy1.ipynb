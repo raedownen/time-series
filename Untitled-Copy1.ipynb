{
 "cells": [
  {
   "cell_type": "code",
   "execution_count": 1,
   "id": "96d57b32",
   "metadata": {},
   "outputs": [],
   "source": [
    "%matplotlib inline\n",
    "from datetime import timedelta, datetime\n",
    "from env import user, password, host\n",
    "from math import sqrt \n",
    "from sklearn.metrics import mean_squared_error\n",
    "from statsmodels.tsa.api import Holt, ExponentialSmoothing\n",
    "import matplotlib.pyplot as plt\n",
    "import numpy as np\n",
    "import os\n",
    "import pandas as pd\n",
    "import requests\n",
    "import seaborn as sns\n",
    "import statsmodels.api as sm\n",
    "import warnings\n",
    "plt.rc('figure', figsize=(13, 7))\n",
    "plt.rc('font', size=16)\n",
    "plt.style.use('seaborn-whitegrid')\n",
    "warnings.filterwarnings(\"ignore\")"
   ]
  },
  {
   "cell_type": "code",
   "execution_count": 2,
   "id": "541c96f5",
   "metadata": {},
   "outputs": [],
   "source": [
    "df = pd.read_csv('DISTRICT_summary_22.csv')"
   ]
  },
  {
   "cell_type": "code",
   "execution_count": 3,
   "id": "1cfad900",
   "metadata": {},
   "outputs": [
    {
     "data": {
      "text/html": [
       "<div>\n",
       "<style scoped>\n",
       "    .dataframe tbody tr th:only-of-type {\n",
       "        vertical-align: middle;\n",
       "    }\n",
       "\n",
       "    .dataframe tbody tr th {\n",
       "        vertical-align: top;\n",
       "    }\n",
       "\n",
       "    .dataframe thead th {\n",
       "        text-align: right;\n",
       "    }\n",
       "</style>\n",
       "<table border=\"1\" class=\"dataframe\">\n",
       "  <thead>\n",
       "    <tr style=\"text-align: right;\">\n",
       "      <th></th>\n",
       "      <th>AGGREGATION LEVEL</th>\n",
       "      <th>REGION</th>\n",
       "      <th>DISTNAME</th>\n",
       "      <th>DISTRICT</th>\n",
       "      <th>CHARTER_STATUS</th>\n",
       "      <th>SECTION</th>\n",
       "      <th>HEADING</th>\n",
       "      <th>HEADING NAME</th>\n",
       "      <th>YR22</th>\n",
       "    </tr>\n",
       "  </thead>\n",
       "  <tbody>\n",
       "    <tr>\n",
       "      <th>0</th>\n",
       "      <td>DISTRICT SUMMARY</td>\n",
       "      <td>10.0</td>\n",
       "      <td>A W BROWN LEADERSHIP ACADEMY</td>\n",
       "      <td>57816.0</td>\n",
       "      <td>OPEN ENROLLMENT CHARTER</td>\n",
       "      <td>A-PARTICIPATION</td>\n",
       "      <td>A01</td>\n",
       "      <td>DISTRICT CUMULATIVE YEAR END ENROLLMENT</td>\n",
       "      <td>1177.0</td>\n",
       "    </tr>\n",
       "    <tr>\n",
       "      <th>1</th>\n",
       "      <td>DISTRICT SUMMARY</td>\n",
       "      <td>10.0</td>\n",
       "      <td>A W BROWN LEADERSHIP ACADEMY</td>\n",
       "      <td>57816.0</td>\n",
       "      <td>OPEN ENROLLMENT CHARTER</td>\n",
       "      <td>A-PARTICIPATION</td>\n",
       "      <td>A02</td>\n",
       "      <td>DISTRICT DISCIPLINE POPULATION</td>\n",
       "      <td>156.0</td>\n",
       "    </tr>\n",
       "    <tr>\n",
       "      <th>2</th>\n",
       "      <td>DISTRICT SUMMARY</td>\n",
       "      <td>10.0</td>\n",
       "      <td>A W BROWN LEADERSHIP ACADEMY</td>\n",
       "      <td>57816.0</td>\n",
       "      <td>OPEN ENROLLMENT CHARTER</td>\n",
       "      <td>A-PARTICIPATION</td>\n",
       "      <td>A03</td>\n",
       "      <td>DISTRICT DISCIPLINE RECORD COUNT</td>\n",
       "      <td>248.0</td>\n",
       "    </tr>\n",
       "    <tr>\n",
       "      <th>3</th>\n",
       "      <td>DISTRICT SUMMARY</td>\n",
       "      <td>10.0</td>\n",
       "      <td>A W BROWN LEADERSHIP ACADEMY</td>\n",
       "      <td>57816.0</td>\n",
       "      <td>OPEN ENROLLMENT CHARTER</td>\n",
       "      <td>B-DISCIPLINE DATA TRENDS</td>\n",
       "      <td>B10</td>\n",
       "      <td>COUNT OF STUDENTS SUSPENDED IN SCHOOL</td>\n",
       "      <td>45.0</td>\n",
       "    </tr>\n",
       "    <tr>\n",
       "      <th>4</th>\n",
       "      <td>DISTRICT SUMMARY</td>\n",
       "      <td>10.0</td>\n",
       "      <td>A W BROWN LEADERSHIP ACADEMY</td>\n",
       "      <td>57816.0</td>\n",
       "      <td>OPEN ENROLLMENT CHARTER</td>\n",
       "      <td>B-DISCIPLINE DATA TRENDS</td>\n",
       "      <td>B13</td>\n",
       "      <td>STUDENTS SUSPENDED OUT OF SCHOOL</td>\n",
       "      <td>132.0</td>\n",
       "    </tr>\n",
       "  </tbody>\n",
       "</table>\n",
       "</div>"
      ],
      "text/plain": [
       "  AGGREGATION LEVEL  REGION                      DISTNAME  DISTRICT  \\\n",
       "0  DISTRICT SUMMARY    10.0  A W BROWN LEADERSHIP ACADEMY   57816.0   \n",
       "1  DISTRICT SUMMARY    10.0  A W BROWN LEADERSHIP ACADEMY   57816.0   \n",
       "2  DISTRICT SUMMARY    10.0  A W BROWN LEADERSHIP ACADEMY   57816.0   \n",
       "3  DISTRICT SUMMARY    10.0  A W BROWN LEADERSHIP ACADEMY   57816.0   \n",
       "4  DISTRICT SUMMARY    10.0  A W BROWN LEADERSHIP ACADEMY   57816.0   \n",
       "\n",
       "            CHARTER_STATUS                   SECTION HEADING  \\\n",
       "0  OPEN ENROLLMENT CHARTER           A-PARTICIPATION     A01   \n",
       "1  OPEN ENROLLMENT CHARTER           A-PARTICIPATION     A02   \n",
       "2  OPEN ENROLLMENT CHARTER           A-PARTICIPATION     A03   \n",
       "3  OPEN ENROLLMENT CHARTER  B-DISCIPLINE DATA TRENDS     B10   \n",
       "4  OPEN ENROLLMENT CHARTER  B-DISCIPLINE DATA TRENDS     B13   \n",
       "\n",
       "                              HEADING NAME    YR22  \n",
       "0  DISTRICT CUMULATIVE YEAR END ENROLLMENT  1177.0  \n",
       "1           DISTRICT DISCIPLINE POPULATION   156.0  \n",
       "2         DISTRICT DISCIPLINE RECORD COUNT   248.0  \n",
       "3    COUNT OF STUDENTS SUSPENDED IN SCHOOL    45.0  \n",
       "4         STUDENTS SUSPENDED OUT OF SCHOOL   132.0  "
      ]
     },
     "execution_count": 3,
     "metadata": {},
     "output_type": "execute_result"
    }
   ],
   "source": [
    "df.head()"
   ]
  },
  {
   "cell_type": "code",
   "execution_count": 4,
   "id": "da851ad3",
   "metadata": {},
   "outputs": [
    {
     "data": {
      "text/plain": [
       "(66491, 9)"
      ]
     },
     "execution_count": 4,
     "metadata": {},
     "output_type": "execute_result"
    }
   ],
   "source": [
    "df.shape\n"
   ]
  },
  {
   "cell_type": "code",
   "execution_count": 5,
   "id": "ad0005fb",
   "metadata": {},
   "outputs": [
    {
     "name": "stdout",
     "output_type": "stream",
     "text": [
      "<class 'pandas.core.frame.DataFrame'>\n",
      "RangeIndex: 66491 entries, 0 to 66490\n",
      "Data columns (total 9 columns):\n",
      " #   Column             Non-Null Count  Dtype  \n",
      "---  ------             --------------  -----  \n",
      " 0   AGGREGATION LEVEL  66491 non-null  object \n",
      " 1   REGION             66489 non-null  float64\n",
      " 2   DISTNAME           66489 non-null  object \n",
      " 3   DISTRICT           66489 non-null  float64\n",
      " 4   CHARTER_STATUS     66489 non-null  object \n",
      " 5   SECTION            66489 non-null  object \n",
      " 6   HEADING            66489 non-null  object \n",
      " 7   HEADING NAME       66489 non-null  object \n",
      " 8   YR22               66489 non-null  float64\n",
      "dtypes: float64(3), object(6)\n",
      "memory usage: 4.6+ MB\n"
     ]
    }
   ],
   "source": [
    "df.info()"
   ]
  },
  {
   "cell_type": "code",
   "execution_count": 6,
   "id": "8c583168",
   "metadata": {},
   "outputs": [
    {
     "data": {
      "text/plain": [
       "<bound method IndexOpsMixin.value_counts of Index(['AGGREGATION LEVEL', 'REGION', 'DISTNAME', 'DISTRICT', 'CHARTER_STATUS',\n",
       "       'SECTION', 'HEADING', 'HEADING NAME', 'YR22'],\n",
       "      dtype='object')>"
      ]
     },
     "execution_count": 6,
     "metadata": {},
     "output_type": "execute_result"
    }
   ],
   "source": [
    "df.columns.value_counts"
   ]
  },
  {
   "cell_type": "code",
   "execution_count": null,
   "id": "8f2654a4",
   "metadata": {},
   "outputs": [],
   "source": []
  }
 ],
 "metadata": {
  "kernelspec": {
   "display_name": "Python 3 (ipykernel)",
   "language": "python",
   "name": "python3"
  },
  "language_info": {
   "codemirror_mode": {
    "name": "ipython",
    "version": 3
   },
   "file_extension": ".py",
   "mimetype": "text/x-python",
   "name": "python",
   "nbconvert_exporter": "python",
   "pygments_lexer": "ipython3",
   "version": "3.9.12"
  }
 },
 "nbformat": 4,
 "nbformat_minor": 5
}
